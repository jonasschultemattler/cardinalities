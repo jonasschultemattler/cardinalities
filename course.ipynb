{
 "cells": [
  {
   "cell_type": "markdown",
   "id": "6246c9c1-a703-4a47-94fe-1c030bfa8a08",
   "metadata": {},
   "source": [
    "# Nanocourse - Genomic analysis using sketching techniques\n",
    "\n"
   ]
  },
  {
   "cell_type": "markdown",
   "id": "cf5627c9-8906-4a39-a9d0-444662d47c58",
   "metadata": {},
   "source": [
    "\n",
    "## Sketching\n",
    "\n",
    "A *data sketch* of data $X$ is the output of a (randomized) function $f$ s.t.:\n",
    " - $|f(X)| \\subseteq o(|X|)$\n",
    " - $f$ perserves some properties of $X$ e.g. approximation of the number of distinct elements\n",
    " - $f$ preserves certain similarity measures e.g. number of shared elements\n",
    " - $f(X)$ allows to be updated efficiently\n",
    "\n",
    "\n",
    "## Counting distinct elements of a set\n",
    "\n",
    "In an **online** setting (stream)\n",
    "\n",
    "\n",
    "### Naive solution\n",
    "\n",
    "Using a Hashmap or a Bitvector\n",
    "\n",
    "**TODO:** Implement naive_counting() in naive_couting.cpp\n",
    "\n",
    "Test your implementation by running\n",
    "```\n",
    "./build/source/naivecounting data/ecoli1_k31_ust.fa.gz\n",
    "```\n",
    "The output should be\n",
    "```\n",
    "Distinct kmers: 4877400\n",
    "```\n",
    "How much memory consumption do you expect?\n",
    "\n",
    "Let us check that in practice:"
   ]
  },
  {
   "cell_type": "code",
   "execution_count": null,
   "id": "88fa38cc-6d35-4615-be71-4dc7a238fd31",
   "metadata": {},
   "outputs": [],
   "source": [
    "import os\n",
    "from evaluate.track import track_memory_and_runtime\n",
    "\n",
    "file = \"data/ecoli1_k31_ust.fa.gz\"\n",
    "file_size = os.path.getsize(file)/(1024*1024)\n",
    "_,memory,_ = track_memory_and_runtime(\"build/source/naivecounting\", file)\n",
    "print(\"File size: %.1fMB\" % file_size)\n",
    "print(\"Memory consumption: %.1fMB\" % memory)"
   ]
  },
  {
   "cell_type": "markdown",
   "id": "be418691-7e3c-4236-b7bf-59b5d544034c",
   "metadata": {},
   "source": [
    "#### Observation:\n",
    "- space consumption linear w.r.t. number distinct elements\n",
    "- impractical for big data\n",
    "\n",
    "-> approximate/probabilistic counting"
   ]
  },
  {
   "cell_type": "markdown",
   "id": "a0cc5799-42b5-4184-b1f8-68c9b99bd3e0",
   "metadata": {},
   "source": [
    "### Flajolet-Martin’s algorithm\n",
    "\n",
    "#### Recall:\n",
    "\n",
    "Let $\\mathcal{M}$ be a multiset of uniformly distributed random numbers.\n",
    " - The cardinality of $\\mathcal{M}$ can be estimated by the maximum number of leading zeros in the binary representation of each number in $\\mathcal{M}$.\n",
    " - If max leading zeros is $l$, one exepcts $2^l$ distinct elements\n",
    "(the probability of observing a binary encoded number beginning with $k$ zeroes followed by a one is $1/2^{(k+1)}$ ).\n",
    "\n",
    "#### Algorithm:\n",
    "\n",
    "- Map each element $x$ to hash $h(x)$\n",
    "- remember the maximum number $l$ of leading 0-bits seen in any $h(x)$\n",
    "- estimate cardinality by $2^l$\n",
    "\n",
    "<!-- % $\\Psi \\approx 0.77351$ is a normalization constant. -->\n",
    "\n",
    "**TODO**\n",
    "- Implement flajolet_martin() in flajolet_martin.cpp\n",
    "- Test it by running\n",
    "```\n",
    "./build/source/flajoletmartin data/ecoli1_k31_ust.fa.gz\n",
    "```\n",
    "Let us compare run time, space consumption, and accuracy to exact algorithm:"
   ]
  },
  {
   "cell_type": "code",
   "execution_count": null,
   "id": "2fe88246-6d2f-4c16-bfca-57cc5ad394e6",
   "metadata": {},
   "outputs": [],
   "source": [
    "import numpy as np\n",
    "from evaluate.plots import plot_performance, plot_accuracy_FM, plot_accuracies\n",
    "\n",
    "files = [\"data/ecoli1_k31_ust.fa.gz\", \"data/ecoli2_k31_ust.fa.gz\",\n",
    "         \"data/yeast.k31.unitigs.fa.ust.fa.gz\", \"data/salmonella_100_k31_ust.fa.gz\"]\n",
    "\n",
    "naive_results, fm_results = [], []\n",
    "for file in files:\n",
    "    naive_results.append(track_memory_and_runtime(\"build/source/naivecounting\", file))\n",
    "    fm_results.append(track_memory_and_runtime(\"build/source/flajoletmartin\", file))\n",
    "\n",
    "file_sizes = [os.path.getsize(file) for file in files]\n",
    "results = np.array([naive_results, fm_results])\n",
    "algorithms = [\"Naive\", \"Flajolet Martin\"]\n",
    "\n",
    "plot_performance(results, algorithms, file_sizes)\n",
    "# plot_accuracy_FM(results, algorithms)\n",
    "errors=np.abs(results[1,:,2] - results[0,:,2])/results[0,:,2]\n",
    "print(\"Error: %.1f+-%.1f%%\" % (np.mean(errors)*100, np.std(errors)*100))"
   ]
  },
  {
   "cell_type": "markdown",
   "id": "deb2302c-8c43-4d0d-8fb7-47bbc1c6cd2d",
   "metadata": {},
   "source": [
    "#### Observations:\n",
    "- Large variance! How could you compensate that?\n",
    "- Less space consumption: hash $h(x) \\rightarrow [0,L]$ requires $\\log(L) \\approx \\log(n)$ space for $n$ distinct elements i.e. exponential less space w.r.t. sequence length $n$\n"
   ]
  },
  {
   "cell_type": "markdown",
   "id": "5db3527c-819c-4a54-999e-3a54afb5c2b2",
   "metadata": {},
   "source": [
    "### HyperLogLog\n",
    "\n",
    "#### Refinement:\n",
    "- split $\\mathcal{M}$ into $m$ subsets\n",
    "- estimate cardinalities of subsets\n",
    "- return mean\n",
    "\n",
    "The normalized version of the harmonic mean is the estimate\n",
    "\n",
    "$$E:=\\frac{\\alpha_m m^2}{\\sum_{j=1}^m 2^{-M(j)}}.$$\n",
    "\n",
    "for $m$ subsets $M(i)$ and normalization constant $\\alpha_m \\approx 0.7$.\n",
    "\n",
    "**TODO:** Implement hyperloglog() in hyperloglog.cpp\n",
    "\n",
    "Let us compare run time, space consumption, and accuracy to Flajolet-Martin and the exact algorithm:"
   ]
  },
  {
   "cell_type": "code",
   "execution_count": null,
   "id": "e8b3a11a-4f37-4e80-9028-d3cff4b27ca6",
   "metadata": {},
   "outputs": [],
   "source": [
    "naive_results, fm_results, hll_results = [], [], []\n",
    "for file in files:\n",
    "    naive_results.append(track_memory_and_runtime(\"build/source/naivecounting\", file))\n",
    "    fm_results.append(track_memory_and_runtime(\"build/source/flajoletmartin\", file))\n",
    "    hll_results.append(track_memory_and_runtime(\"build/source/hyperloglog\", file))\n",
    "\n",
    "file_sizes = [os.path.getsize(file) for file in files]\n",
    "results = np.array([naive_results, fm_results, hll_results])\n",
    "algorithms = [\"Naive\", \"Flajolet Martin\", \"HLL\"]\n",
    "\n",
    "plot_performance(results, algorithms, file_sizes)\n",
    "plot_accuracies(results, algorithms)\n",
    "error_fm=np.abs(results[1,:,2] - results[0,:,2])/results[0,:,2]\n",
    "error_hll=np.abs(results[2,:,2] - results[0,:,2])/results[0,:,2]\n",
    "print(\"Total Runtime Hashtable: %.1fs, FM: %.1fs, HLL: %.1fs\" % (np.sum(results[0,:,0]), np.sum(results[1,:,0]), np.sum(results[2,:,0])))\n",
    "print(\"Maximum Memory Hashtable: %.1fMb, FM: %.1fMb, HLL: %.1fMb\" % (np.max(results[0,:,1]), np.max(results[1,:,1]), np.max(results[2,:,1])))\n",
    "print(\"Error Flajolet Martin: %.1f+-%.1f%%\" % (np.mean(error_fm)*100, np.std(error_fm)*100))\n",
    "print(\"Error HyperLogLog: %.1f+-%.1f%%\" % (np.mean(error_hll)*100, np.std(error_hll)*100))"
   ]
  },
  {
   "cell_type": "markdown",
   "id": "85a92454-d268-4782-8f28-e70b8fe0c0af",
   "metadata": {},
   "source": [
    "#### Observations:\n",
    "\n",
    "- Smaller variance\n",
    "- Less space consumption: $O(\\log \\log n)$\n"
   ]
  },
  {
   "cell_type": "markdown",
   "id": "2980e4cd-8109-4af7-8fe5-f856a33a6b0f",
   "metadata": {},
   "source": [
    "## Take Aways\n",
    "\n",
    "- Certain tasks for massive data as in molecular biology require data sketching.\n",
    "- With a bit of randomness, measures for distinct elements in a set become tractable for big data."
   ]
  }
 ],
 "metadata": {
  "kernelspec": {
   "display_name": "Python 3 (ipykernel)",
   "language": "python",
   "name": "python3"
  },
  "language_info": {
   "codemirror_mode": {
    "name": "ipython",
    "version": 3
   },
   "file_extension": ".py",
   "mimetype": "text/x-python",
   "name": "python",
   "nbconvert_exporter": "python",
   "pygments_lexer": "ipython3",
   "version": "3.13.2"
  }
 },
 "nbformat": 4,
 "nbformat_minor": 5
}
